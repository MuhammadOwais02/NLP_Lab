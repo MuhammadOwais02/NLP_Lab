{
 "cells": [
  {
   "cell_type": "code",
   "execution_count": 1,
   "id": "fc8c9d41",
   "metadata": {},
   "outputs": [],
   "source": [
    "import pandas as pd\n",
    "import numpy as np"
   ]
  },
  {
   "cell_type": "code",
   "execution_count": 2,
   "id": "0d1e1259",
   "metadata": {},
   "outputs": [],
   "source": [
    "with open(\"/home/shahzaib/Desktop/LAB5/ducumen_100.txt\", \"r\") as file:\n",
    "    documents = file.readlines()\n",
    "# Combine all the documents into a single string\n",
    "text = \" \".join(documents)\n",
    "# Print the resulting string\n",
    "documents=text.split(\"\\n\")"
   ]
  },
  {
   "attachments": {},
   "cell_type": "markdown",
   "id": "6fb26d14",
   "metadata": {},
   "source": [
    "Selected Topic= Football"
   ]
  },
  {
   "cell_type": "code",
   "execution_count": 3,
   "id": "e58239b4",
   "metadata": {},
   "outputs": [
    {
     "data": {
      "text/plain": [
       "['The sun was setting behind the mountains, casting a warm glow over the landscape.',\n",
       " ' The new restaurant in town serves delicious Italian cuisine.',\n",
       " ' The latest fashion trends are all about bright colors and bold prints.',\n",
       " \" The artist's latest exhibition was a huge success.\",\n",
       " ' The sound of the waves crashing against the shore was soothing and peaceful.',\n",
       " ' The new video game console is expected to be a big hit with gamers.',\n",
       " \" The city's skyline was breathtaking, with towering skyscrapers reaching towards the clouds.\",\n",
       " ' The latest technology allows for seamless integration between devices.',\n",
       " ' The concert was a sell-out, with fans lining up for hours to get tickets.',\n",
       " ' The world is becoming increasingly connected through social media and online communication.',\n",
       " \" The novel's intricate plot kept readers on the edge of their seats until the very end.\",\n",
       " ' The medical breakthrough could potentially save millions of lives around the world.',\n",
       " ' The hiking trail offered stunning views of the surrounding wilderness.',\n",
       " ' The new movie starring a popular actor received mixed reviews from critics.',\n",
       " ' The fashion industry has come under fire for its lack of diversity and inclusion.',\n",
       " \" The football team's star player scored a hat-trick in the latest match.\",\n",
       " ' The city council approved a new development project in the downtown area.',\n",
       " ' The latest scientific research suggests that global warming is a serious threat to the planet.',\n",
       " \" The book club's latest selection was a thought-provoking memoir about growing up in poverty.\",\n",
       " ' The music festival attracted thousands of people from all over the country.',\n",
       " \" The company's new marketing strategy has been a huge success, with sales increasing by 50%.\",\n",
       " ' The latest smartphone model has a sleek design and advanced features.',\n",
       " \" The museum's latest exhibit showcases the work of a renowned artist from the 20th century.\",\n",
       " ' The political landscape is becoming increasingly polarized, with extreme views on both sides.',\n",
       " \" The football team's manager was sacked after a string of poor results.\",\n",
       " ' The latest fashion accessories are all about minimalist design and functionality.',\n",
       " ' The stock market saw a sharp decline in response to global economic concerns.',\n",
       " \" The city's public transportation system is in dire need of improvement.\",\n",
       " ' The latest fitness craze involves high-intensity interval training and functional movements.',\n",
       " ' The new shopping center is set to be the largest in the region.',\n",
       " ' The latest scientific discovery has potential applications in medicine and technology.',\n",
       " \" The movie's stunning cinematography and special effects wowed audiences around the world.\",\n",
       " \" The city's residents have been protesting against a controversial new law.\",\n",
       " \" The football team's captain was suspended for several games after a red card.\",\n",
       " ' The latest smartphone app has revolutionized the way we communicate and share information.',\n",
       " ' The food festival showcased a diverse range of cuisines from around the world.',\n",
       " ' The latest fitness wear features breathable fabrics and moisture-wicking technology.',\n",
       " \" The city's skyline is dominated by iconic landmarks and modern architecture.\",\n",
       " \" The new museum exhibit explores the history of the region's indigenous peoples.\",\n",
       " ' The latest environmental policies aim to reduce carbon emissions and promote renewable energy.',\n",
       " \" The football team's supporters sang their hearts out throughout the match.\",\n",
       " \" The city's public parks offer a tranquil retreat from the hustle and bustle of urban life.\",\n",
       " ' The latest fashion accessories are all about bold statement pieces and colorful prints.',\n",
       " ' The latest scientific breakthrough could lead to a cure for a rare disease.',\n",
       " ' The music festival featured a diverse range of artists from different genres and backgrounds.',\n",
       " ' The latest technology allows for seamless integration.',\n",
       " \" The city's vibrant street art scene attracts visitors from around the world.\",\n",
       " ' The new book by a bestselling author is a gripping thriller with unexpected twists.',\n",
       " ' The latest fashion trend is all about sustainable and ethical clothing.',\n",
       " \" The museum's latest exhibition features a collection of ancient artifacts.\",\n",
       " ' The latest scientific research shows promising results for a new cancer treatment.',\n",
       " \" The football team's goalkeeper made some incredible saves during the match.\",\n",
       " \" The city's architecture reflects its rich cultural history and diverse influences.\",\n",
       " ' The latest fitness craze combines dance and aerobics for a fun and high-energy workout.',\n",
       " ' The new shopping mall features a state-of-the-art cinema complex and an indoor amusement park.',\n",
       " ' The latest technology has transformed the way we live and work.',\n",
       " \" The city's public transportation system is convenient and affordable.\",\n",
       " ' The latest beauty trend is all about natural and organic skincare products.',\n",
       " \" The museum's latest exhibit features works by a renowned contemporary artist.\",\n",
       " ' The latest scientific discovery could have far-reaching implications for the field of medicine.',\n",
       " \" The football team's manager praised the players' hard work and dedication after a crucial win.\",\n",
       " \" The city's public squares and plazas are popular gathering places.\",\n",
       " ' The latest fashion trend is all about oversized and comfortable clothing.',\n",
       " ' The latest technology has brought about major changes in the way we communicate.',\n",
       " ' The food festival showcased the best of local cuisine, with dishes from all over the region.',\n",
       " ' The latest fitness wear is designed to be both stylish and functional.',\n",
       " \" The city's skyline is constantly evolving.\",\n",
       " \" The new museum exhibit explores the history and culture of the city's immigrant communities.\",\n",
       " ' The latest environmental policies aim to protect endangered species.',\n",
       " \" The football team's fans celebrated in the streets after a decisive victory.\",\n",
       " \" The city's public gardens and parks offer a peaceful retreat from the urban hustle and bustle.\",\n",
       " ' The latest fashion trend is all about retro-inspired designs and nostalgic touches.',\n",
       " ' The latest scientific breakthrough could revolutionize the way we treat certain diseases.',\n",
       " ' The music festival featured a range of up-and-coming artists as well as established headliners.',\n",
       " \" The city's historic landmarks and monuments are a testament to its rich cultural heritage.\",\n",
       " ' The latest fitness craze combines yoga and meditation for a holistic approach to wellness.',\n",
       " ' The new shopping center has something for everyone.',\n",
       " ' The latest technology is changing the way we think about work and productivity.',\n",
       " \" The city's public art installations are a source of inspiration and creativity.\",\n",
       " ' The new book by a celebrated author is a moving and poignant memoir of a difficult childhood.',\n",
       " ' The latest beauty trend is all about glowing and radiant skin.',\n",
       " \" The museum's latest exhibition showcases the work of a groundbreaking female artist..\",\n",
       " ' The latest scientific research is focused on finding new and innovative solutions.',\n",
       " \" The football team's supporters showed their dedication and passion by organizing a charity.\",\n",
       " \" The city's public transport infrastructure is constantly being updated.\",\n",
       " ' The latest fashion trend is all about bold prints.',\n",
       " ' The food festival showcased a range of international cuisines.',\n",
       " ' The latest fitness craze is all about high-intensity interval training.',\n",
       " \" The city's museums and galleries offer a wealth of cultural experiences.\",\n",
       " ' The latest environmental initiatives aim to reduce waste..',\n",
       " \" The football team's captain led by example, scoring a crucial goal.\",\n",
       " \" The city's historic buildings and neighborhoods are a reminder of its rich past.\",\n",
       " ' The latest beauty trend is all about minimalism.',\n",
       " \" The museum's latest exhibit explores the intersection of art and technology..\",\n",
       " ' The latest scientific breakthrough could lead to a cure for a devastating disease.',\n",
       " ' The music festival was a celebration of diversity and inclusivity.s.',\n",
       " \" The city's public spaces, such as parks and squares.\",\n",
       " ' The latest fashion trend is all about sustainable and ethical production practices.',\n",
       " ' The latest fitness equipment incorporates cutting-edge technology, such as wearable devices.',\n",
       " \" The city's vibrant nightlife scene offers a range of options for entertainment.\"]"
      ]
     },
     "execution_count": 3,
     "metadata": {},
     "output_type": "execute_result"
    }
   ],
   "source": [
    "documents"
   ]
  },
  {
   "cell_type": "code",
   "execution_count": 4,
   "id": "2b91352a",
   "metadata": {},
   "outputs": [],
   "source": [
    "#choose documents which have atleast 1 of the following keywords\n",
    "football_keywords = [\"goal\", \"captain\",\"match\",\"fan\", \"player\", \"team\", \"league\", \"cup\", \"coach\", \"referee\",'football']\n",
    "football_documents=[]\n",
    "for doc in documents:\n",
    "    count=0\n",
    "    for kv in football_keywords:\n",
    "        if kv in doc.lower():\n",
    "            count+=1\n",
    "    if count>=1:\n",
    "        football_documents.append(doc)\n"
   ]
  },
  {
   "cell_type": "code",
   "execution_count": 5,
   "id": "21002e97",
   "metadata": {},
   "outputs": [
    {
     "data": {
      "text/plain": [
       "[' The concert was a sell-out, with fans lining up for hours to get tickets.',\n",
       " \" The football team's star player scored a hat-trick in the latest match.\",\n",
       " \" The football team's manager was sacked after a string of poor results.\",\n",
       " \" The football team's captain was suspended for several games after a red card.\",\n",
       " \" The football team's supporters sang their hearts out throughout the match.\",\n",
       " \" The football team's goalkeeper made some incredible saves during the match.\",\n",
       " \" The football team's manager praised the players' hard work and dedication after a crucial win.\",\n",
       " \" The football team's fans celebrated in the streets after a decisive victory.\",\n",
       " \" The football team's supporters showed their dedication and passion by organizing a charity.\",\n",
       " \" The football team's captain led by example, scoring a crucial goal.\"]"
      ]
     },
     "execution_count": 5,
     "metadata": {},
     "output_type": "execute_result"
    }
   ],
   "source": [
    "football_documents"
   ]
  },
  {
   "cell_type": "code",
   "execution_count": 6,
   "id": "bb41f15f",
   "metadata": {},
   "outputs": [],
   "source": [
    "#minimun edit distance which takes two documents and return the minimum edit distance between them\n",
    "def min_edit_distance(str1, str2):\n",
    "    m = len(str1)\n",
    "    n = len(str2)\n",
    "    dp = [[0] * (n + 1) for _ in range(m + 1)]\n",
    "    for i in range(1, m + 1):\n",
    "        dp[i][0] = i\n",
    "    for j in range(1, n + 1):\n",
    "        dp[0][j] = j\n",
    "\n",
    "    for i in range(1, m + 1):\n",
    "        for j in range(1, n + 1):\n",
    "            if str1[i - 1] == str2[j - 1]:\n",
    "                dp[i][j] = dp[i - 1][j - 1]\n",
    "            else:\n",
    "                dp[i][j] = 1 + min(dp[i - 1][j], dp[i][j - 1], dp[i - 1][j - 1])\n",
    "    return dp[m][n]\n"
   ]
  },
  {
   "cell_type": "code",
   "execution_count": 7,
   "id": "02400d6f",
   "metadata": {},
   "outputs": [],
   "source": [
    "similarity_matrix = [[0] * len(football_documents) for _ in range(len(football_documents))]"
   ]
  },
  {
   "cell_type": "code",
   "execution_count": 8,
   "id": "d47dc4d9",
   "metadata": {},
   "outputs": [],
   "source": [
    "for i in range(len(football_documents)):\n",
    "    for j in range(i, len(football_documents)):\n",
    "        doc1 = football_documents[i]\n",
    "        doc2 = football_documents[j]\n",
    "        distance = min_edit_distance(doc1, doc2)\n",
    "        similarity = 1 - (distance / max(len(doc1), len(doc2)))\n",
    "        similarity_matrix[i][j] = round(similarity,3)\n",
    "        similarity_matrix[j][i] = round(similarity,3)"
   ]
  },
  {
   "cell_type": "code",
   "execution_count": 9,
   "id": "b2a276a7",
   "metadata": {},
   "outputs": [
    {
     "name": "stdout",
     "output_type": "stream",
     "text": [
      "[1.0, 0.23, 0.27, 0.244, 0.307, 0.25, 0.284, 0.273, 0.293, 0.216]\n",
      "[0.23, 1.0, 0.486, 0.436, 0.493, 0.474, 0.453, 0.442, 0.446, 0.431]\n",
      "[0.27, 0.486, 1.0, 0.513, 0.453, 0.447, 0.495, 0.468, 0.424, 0.479]\n",
      "[0.244, 0.436, 0.513, 1.0, 0.423, 0.423, 0.474, 0.462, 0.424, 0.513]\n",
      "[0.307, 0.493, 0.453, 0.423, 1.0, 0.513, 0.411, 0.455, 0.543, 0.4]\n",
      "[0.25, 0.474, 0.447, 0.423, 0.513, 1.0, 0.411, 0.429, 0.402, 0.421]\n",
      "[0.284, 0.453, 0.495, 0.474, 0.411, 0.411, 1.0, 0.474, 0.421, 0.474]\n",
      "[0.273, 0.442, 0.468, 0.462, 0.455, 0.429, 0.474, 1.0, 0.424, 0.455]\n",
      "[0.293, 0.446, 0.424, 0.424, 0.543, 0.402, 0.421, 0.424, 1.0, 0.424]\n",
      "[0.216, 0.431, 0.479, 0.513, 0.4, 0.421, 0.474, 0.455, 0.424, 1.0]\n"
     ]
    }
   ],
   "source": [
    "for row in similarity_matrix:\n",
    "    print(row)"
   ]
  },
  {
   "cell_type": "code",
   "execution_count": 10,
   "id": "0886fd80",
   "metadata": {},
   "outputs": [],
   "source": [
    "#using NLTK to find text similarity\n",
    "from nltk.metrics import edit_distance"
   ]
  },
  {
   "cell_type": "code",
   "execution_count": 11,
   "id": "8a7d27fe",
   "metadata": {},
   "outputs": [],
   "source": [
    "similarity_matrix_nltk = [[0] * len(football_documents) for _ in range(len(football_documents))]"
   ]
  },
  {
   "cell_type": "code",
   "execution_count": 12,
   "id": "1be97b5b",
   "metadata": {},
   "outputs": [],
   "source": [
    "for i in range(len(football_documents)):\n",
    "    for j in range(i, len(football_documents)):\n",
    "        doc1 = football_documents[i]\n",
    "        doc2 = football_documents[j]\n",
    "        distance = edit_distance(doc1, doc2)\n",
    "        similarity = 1 - (distance / max(len(doc1), len(doc2)))\n",
    "        similarity_matrix_nltk[i][j] = round(similarity,3)\n",
    "        similarity_matrix_nltk[j][i] = round(similarity,3)"
   ]
  },
  {
   "cell_type": "code",
   "execution_count": 13,
   "id": "43c99121",
   "metadata": {},
   "outputs": [
    {
     "name": "stdout",
     "output_type": "stream",
     "text": [
      "[1.0, 0.23, 0.27, 0.244, 0.307, 0.25, 0.284, 0.273, 0.293, 0.216]\n",
      "[0.23, 1.0, 0.486, 0.436, 0.493, 0.474, 0.453, 0.442, 0.446, 0.431]\n",
      "[0.27, 0.486, 1.0, 0.513, 0.453, 0.447, 0.495, 0.468, 0.424, 0.479]\n",
      "[0.244, 0.436, 0.513, 1.0, 0.423, 0.423, 0.474, 0.462, 0.424, 0.513]\n",
      "[0.307, 0.493, 0.453, 0.423, 1.0, 0.513, 0.411, 0.455, 0.543, 0.4]\n",
      "[0.25, 0.474, 0.447, 0.423, 0.513, 1.0, 0.411, 0.429, 0.402, 0.421]\n",
      "[0.284, 0.453, 0.495, 0.474, 0.411, 0.411, 1.0, 0.474, 0.421, 0.474]\n",
      "[0.273, 0.442, 0.468, 0.462, 0.455, 0.429, 0.474, 1.0, 0.424, 0.455]\n",
      "[0.293, 0.446, 0.424, 0.424, 0.543, 0.402, 0.421, 0.424, 1.0, 0.424]\n",
      "[0.216, 0.431, 0.479, 0.513, 0.4, 0.421, 0.474, 0.455, 0.424, 1.0]\n"
     ]
    }
   ],
   "source": [
    "for row in similarity_matrix_nltk:\n",
    "    print(row)"
   ]
  },
  {
   "attachments": {},
   "cell_type": "markdown",
   "id": "09e08a64",
   "metadata": {},
   "source": [
    "Result: got the same results from doing it from scratch and using nltk library\n",
    "\n",
    "imitations of the minimum edit distance algorithm in measuring text similarity\n",
    "1) sensitive to spelling errors\n",
    "2) not suitable for long texts\n",
    "3) no concept of similarity threshold\n",
    "4) does not understand semantic meaning"
   ]
  },
  {
   "cell_type": "code",
   "execution_count": 20,
   "id": "f01cbc36",
   "metadata": {},
   "outputs": [],
   "source": [
    "import math"
   ]
  },
  {
   "cell_type": "code",
   "execution_count": 42,
   "id": "771836e7",
   "metadata": {},
   "outputs": [],
   "source": [
    "# coded and learned online\n",
    "def calculate_tf(word_list):\n",
    "    tf_dict = {}\n",
    "    n = len(word_list)\n",
    "    for word in word_list:\n",
    "        if word not in tf_dict:\n",
    "            tf_dict[word] = 0\n",
    "        tf_dict[word] += 1 / n\n",
    "    return tf_dict\n",
    "\n",
    "def calculate_idf(word_lists):\n",
    "    idf_dict = {}\n",
    "    n = len(word_lists)\n",
    "    all_words = set(word for word_list in word_lists for word in word_list)\n",
    "    for word in all_words:\n",
    "        count = sum(1 for word_list in word_lists if word in word_list)\n",
    "        idf_dict[word] = math.log(n / count)\n",
    "    return idf_dict\n",
    "\n",
    "def calculate_tfidf(tf_dict, idf_dict):\n",
    "    tfidf_dict = {}\n",
    "    for word, tf in tf_dict.items():\n",
    "        tfidf_dict[word] = tf * idf_dict[word]\n",
    "    return tfidf_dict"
   ]
  },
  {
   "cell_type": "code",
   "execution_count": 23,
   "id": "52904e5f",
   "metadata": {},
   "outputs": [
    {
     "data": {
      "text/plain": [
       "[['the',\n",
       "  'concert',\n",
       "  'was',\n",
       "  'a',\n",
       "  'sell-out,',\n",
       "  'with',\n",
       "  'fans',\n",
       "  'lining',\n",
       "  'up',\n",
       "  'for',\n",
       "  'hours',\n",
       "  'to',\n",
       "  'get',\n",
       "  'tickets.'],\n",
       " ['the',\n",
       "  'football',\n",
       "  \"team's\",\n",
       "  'star',\n",
       "  'player',\n",
       "  'scored',\n",
       "  'a',\n",
       "  'hat-trick',\n",
       "  'in',\n",
       "  'the',\n",
       "  'latest',\n",
       "  'match.'],\n",
       " ['the',\n",
       "  'football',\n",
       "  \"team's\",\n",
       "  'manager',\n",
       "  'was',\n",
       "  'sacked',\n",
       "  'after',\n",
       "  'a',\n",
       "  'string',\n",
       "  'of',\n",
       "  'poor',\n",
       "  'results.'],\n",
       " ['the',\n",
       "  'football',\n",
       "  \"team's\",\n",
       "  'captain',\n",
       "  'was',\n",
       "  'suspended',\n",
       "  'for',\n",
       "  'several',\n",
       "  'games',\n",
       "  'after',\n",
       "  'a',\n",
       "  'red',\n",
       "  'card.'],\n",
       " ['the',\n",
       "  'football',\n",
       "  \"team's\",\n",
       "  'supporters',\n",
       "  'sang',\n",
       "  'their',\n",
       "  'hearts',\n",
       "  'out',\n",
       "  'throughout',\n",
       "  'the',\n",
       "  'match.'],\n",
       " ['the',\n",
       "  'football',\n",
       "  \"team's\",\n",
       "  'goalkeeper',\n",
       "  'made',\n",
       "  'some',\n",
       "  'incredible',\n",
       "  'saves',\n",
       "  'during',\n",
       "  'the',\n",
       "  'match.'],\n",
       " ['the',\n",
       "  'football',\n",
       "  \"team's\",\n",
       "  'manager',\n",
       "  'praised',\n",
       "  'the',\n",
       "  \"players'\",\n",
       "  'hard',\n",
       "  'work',\n",
       "  'and',\n",
       "  'dedication',\n",
       "  'after',\n",
       "  'a',\n",
       "  'crucial',\n",
       "  'win.'],\n",
       " ['the',\n",
       "  'football',\n",
       "  \"team's\",\n",
       "  'fans',\n",
       "  'celebrated',\n",
       "  'in',\n",
       "  'the',\n",
       "  'streets',\n",
       "  'after',\n",
       "  'a',\n",
       "  'decisive',\n",
       "  'victory.'],\n",
       " ['the',\n",
       "  'football',\n",
       "  \"team's\",\n",
       "  'supporters',\n",
       "  'showed',\n",
       "  'their',\n",
       "  'dedication',\n",
       "  'and',\n",
       "  'passion',\n",
       "  'by',\n",
       "  'organizing',\n",
       "  'a',\n",
       "  'charity.'],\n",
       " ['the',\n",
       "  'football',\n",
       "  \"team's\",\n",
       "  'captain',\n",
       "  'led',\n",
       "  'by',\n",
       "  'example,',\n",
       "  'scoring',\n",
       "  'a',\n",
       "  'crucial',\n",
       "  'goal.']]"
      ]
     },
     "execution_count": 23,
     "metadata": {},
     "output_type": "execute_result"
    }
   ],
   "source": [
    "word_lists = [doc.lower().split() for doc in football_documents]\n",
    "word_lists"
   ]
  },
  {
   "cell_type": "code",
   "execution_count": 24,
   "id": "25444c05",
   "metadata": {},
   "outputs": [],
   "source": [
    "idf_dict = calculate_idf(word_lists)"
   ]
  },
  {
   "cell_type": "code",
   "execution_count": 25,
   "id": "1b117438",
   "metadata": {},
   "outputs": [],
   "source": [
    "tfidf_lists = []\n",
    "for word_list in word_lists:\n",
    "    tf_dict = calculate_tf(word_list)\n",
    "    tfidf_dict = calculate_tfidf(tf_dict, idf_dict)\n",
    "    tfidf_lists.append(tfidf_dict)"
   ]
  },
  {
   "cell_type": "code",
   "execution_count": 30,
   "id": "e86cf7ae",
   "metadata": {},
   "outputs": [],
   "source": [
    "similarity_matrix = [[0 for i in range(len(football_documents))] for j in range(len(football_documents))]\n",
    "for i in range(len(documents)):\n",
    "    for j in range(i, len(documents)):\n",
    "        vec1 = tfidf_lists[i]\n",
    "        vec2 = tfidf_lists[j]\n",
    "        dot_product = sum([vec1[word]*vec2[word] for word in vec1 if word in vec2])\n",
    "        magnitude1 = math.sqrt(sum([vec1[word]**2 for word in vec1]))\n",
    "        magnitude2 = math.sqrt(sum([vec2[word]**2 for word in vec2]))\n",
    "        cosine_similarity = dot_product / (magnitude1 * magnitude2)\n",
    "        similarity_matrix[i][j] = round(cosine_similarity,3)\n",
    "        similarity_matrix[j][i] = round(cosine_similarity,3)"
   ]
  },
  {
   "cell_type": "code",
   "execution_count": 31,
   "id": "feb851e5",
   "metadata": {},
   "outputs": [
    {
     "name": "stdout",
     "output_type": "stream",
     "text": [
      "[1.0, 0.001, 0.036, 0.095, 0.0, 0.0, 0.001, 0.069, 0.001, 0.001]\n",
      "[0.001, 1.0, 0.002, 0.002, 0.05, 0.046, 0.002, 0.092, 0.002, 0.002]\n",
      "[0.036, 0.002, 1.0, 0.072, 0.001, 0.001, 0.102, 0.031, 0.002, 0.002]\n",
      "[0.095, 0.002, 0.072, 1.0, 0.001, 0.001, 0.025, 0.03, 0.002, 0.085]\n",
      "[0.0, 0.05, 0.001, 0.001, 1.0, 0.048, 0.001, 0.001, 0.168, 0.001]\n",
      "[0.0, 0.046, 0.001, 0.001, 0.048, 1.0, 0.001, 0.001, 0.001, 0.001]\n",
      "[0.001, 0.002, 0.102, 0.025, 0.001, 0.001, 1.0, 0.028, 0.146, 0.08]\n",
      "[0.069, 0.092, 0.031, 0.03, 0.001, 0.001, 0.028, 1.0, 0.002, 0.003]\n",
      "[0.001, 0.002, 0.002, 0.002, 0.168, 0.001, 0.146, 0.002, 1.0, 0.084]\n",
      "[0.001, 0.002, 0.002, 0.085, 0.001, 0.001, 0.08, 0.003, 0.084, 1.0]\n"
     ]
    }
   ],
   "source": [
    "for row in similarity_matrix:\n",
    "    print(row)"
   ]
  },
  {
   "attachments": {},
   "cell_type": "markdown",
   "id": "9cc19bfe",
   "metadata": {},
   "source": [
    "Advantages of TF-IDF:\n",
    "1) language independent\n",
    "2) simple and efficient"
   ]
  },
  {
   "attachments": {},
   "cell_type": "markdown",
   "id": "a39945cd",
   "metadata": {},
   "source": [
    "Disadvantages of TF-IDF\n",
    "1) ignores word order \n",
    "2) limited to bow models\n",
    "3) sensitive to document lenght"
   ]
  },
  {
   "cell_type": "code",
   "execution_count": 32,
   "id": "322f9927",
   "metadata": {},
   "outputs": [],
   "source": [
    "from sklearn.feature_extraction.text import TfidfVectorizer\n",
    "from sklearn.metrics.pairwise import cosine_similarity"
   ]
  },
  {
   "cell_type": "code",
   "execution_count": 33,
   "id": "b44d9cb4",
   "metadata": {},
   "outputs": [],
   "source": [
    "vectorizer = TfidfVectorizer()"
   ]
  },
  {
   "cell_type": "code",
   "execution_count": 34,
   "id": "9b9fb3a8",
   "metadata": {},
   "outputs": [],
   "source": [
    "tf_idf_matrix = vectorizer.fit_transform(football_documents)"
   ]
  },
  {
   "cell_type": "code",
   "execution_count": 35,
   "id": "1c4f1cdc",
   "metadata": {},
   "outputs": [],
   "source": [
    "similarity_matrix_tfidf_sklearn = cosine_similarity(tf_idf_matrix)"
   ]
  },
  {
   "cell_type": "code",
   "execution_count": 40,
   "id": "8deb6ad9",
   "metadata": {},
   "outputs": [],
   "source": [
    "similarity_matrix_tfidf_sklearn= [[round(num, 3) for num in row] for row in similarity_matrix_tfidf_sklearn]\n"
   ]
  },
  {
   "cell_type": "code",
   "execution_count": 41,
   "id": "a091c98f",
   "metadata": {},
   "outputs": [
    {
     "name": "stdout",
     "output_type": "stream",
     "text": [
      "[1.0, 0.028, 0.075, 0.146, 0.113, 0.029, 0.026, 0.111, 0.014, 0.015]\n",
      "[0.028, 1.0, 0.079, 0.075, 0.195, 0.184, 0.101, 0.215, 0.074, 0.082]\n",
      "[0.075, 0.079, 1.0, 0.193, 0.087, 0.082, 0.217, 0.149, 0.061, 0.067]\n",
      "[0.146, 0.075, 0.193, 1.0, 0.083, 0.079, 0.122, 0.142, 0.058, 0.164]\n",
      "[0.113, 0.195, 0.087, 0.083, 1.0, 0.204, 0.112, 0.131, 0.28, 0.091]\n",
      "[0.029, 0.184, 0.082, 0.079, 0.204, 1.0, 0.106, 0.123, 0.078, 0.086]\n",
      "[0.026, 0.101, 0.217, 0.122, 0.112, 0.106, 1.0, 0.166, 0.237, 0.169]\n",
      "[0.111, 0.215, 0.149, 0.142, 0.131, 0.123, 0.166, 1.0, 0.081, 0.09]\n",
      "[0.014, 0.074, 0.061, 0.058, 0.28, 0.078, 0.237, 0.081, 1.0, 0.162]\n",
      "[0.015, 0.082, 0.067, 0.164, 0.091, 0.086, 0.169, 0.09, 0.162, 1.0]\n"
     ]
    }
   ],
   "source": [
    "for row in similarity_matrix_tfidf_sklearn:\n",
    "    print(row)"
   ]
  },
  {
   "attachments": {},
   "cell_type": "markdown",
   "id": "8d2f3f8f",
   "metadata": {},
   "source": [
    "much better results using sklearn as compared to doing it by scratch"
   ]
  },
  {
   "cell_type": "code",
   "execution_count": null,
   "id": "63657c27",
   "metadata": {},
   "outputs": [],
   "source": []
  },
  {
   "attachments": {},
   "cell_type": "markdown",
   "id": "e86d59b2",
   "metadata": {},
   "source": [
    "Conclusion"
   ]
  },
  {
   "attachments": {},
   "cell_type": "markdown",
   "id": "bbe0ba23",
   "metadata": {},
   "source": [
    "The similarity matrix shows that both implementation of minimum edit distance produces the similar results; however, both implementations of TF-IDF produce different results because maybe scikit-learn's implementation preprocesses the input texts, anyhow,scikit-learn's implementation of tf-idf is more efficient in terms of computation time and calculating text similarity."
   ]
  },
  {
   "cell_type": "markdown",
   "id": "74d21b8e",
   "metadata": {},
   "source": []
  }
 ],
 "metadata": {
  "kernelspec": {
   "display_name": "Python 3 (ipykernel)",
   "language": "python",
   "name": "python3"
  },
  "language_info": {
   "codemirror_mode": {
    "name": "ipython",
    "version": 3
   },
   "file_extension": ".py",
   "mimetype": "text/x-python",
   "name": "python",
   "nbconvert_exporter": "python",
   "pygments_lexer": "ipython3",
   "version": "3.10.6"
  }
 },
 "nbformat": 4,
 "nbformat_minor": 5
}
